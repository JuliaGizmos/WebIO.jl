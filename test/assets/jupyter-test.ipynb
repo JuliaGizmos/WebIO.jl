{
 "cells": [
  {
   "cell_type": "code",
   "execution_count": 12,
   "metadata": {},
   "outputs": [],
   "source": [
    "using WebIO"
   ]
  },
  {
   "cell_type": "code",
   "execution_count": 2,
   "metadata": {},
   "outputs": [
    {
     "data": {
      "text/html": [
       "<div\n",
       "    class=\"webio-mountpoint\"\n",
       "    data-webio-mountpoint=\"16033508889822046891\"\n",
       ">\n",
       "    <script>\n",
       "        WebIO.mount(\n",
       "            document.querySelector('[data-webio-mountpoint=\"16033508889822046891\"]'),\n",
       "            {\"props\":{},\"nodeType\":\"DOM\",\"type\":\"node\",\"instanceArgs\":{\"namespace\":\"html\",\"tag\":\"div\"},\"children\":[\"Hello, World\"]},\n",
       "        )\n",
       "    </script>\n",
       "</div>\n"
      ],
      "text/plain": [
       "(div\n",
       "  \"Hello, World\")"
      ]
     },
     "execution_count": 2,
     "metadata": {},
     "output_type": "execute_result"
    }
   ],
   "source": [
    "node(:div, \"Hello, World\")"
   ]
  },
  {
   "cell_type": "markdown",
   "metadata": {},
   "source": [
    "# Composing content\n",
    "\n",
    "Let's say you want to display the following HTML:\n",
    "\n",
    "```html\n",
    "<ul class=\"my-list\">\n",
    "    <li>get milk</li>\n",
    "    <li>make a pie</li>\n",
    "</ul>\n",
    "```\n",
    "\n",
    "You can create a nested Node object:"
   ]
  },
  {
   "cell_type": "code",
   "execution_count": null,
   "metadata": {},
   "outputs": [],
   "source": [
    "node(:ul,\n",
    "    node(:li, \"get milk\"),\n",
    "    node(:li, \"make a pie\"), attributes=Dict(:class => \"my-list\"))"
   ]
  },
  {
   "cell_type": "markdown",
   "metadata": {},
   "source": [
    "# Loading JavaScript dependencies\n",
    "\n",
    "You can load dependencies by creating a Scope object and passing in `imports` argument."
   ]
  },
  {
   "cell_type": "code",
   "execution_count": 19,
   "metadata": {
    "scrolled": false
   },
   "outputs": [
    {
     "data": {
      "application/vnd.webio.node+json": {
       "children": [
        {
         "children": [],
         "instanceArgs": {
          "namespace": "html",
          "tag": "div"
         },
         "nodeType": "DOM",
         "props": {
          "id": "container"
         },
         "type": "node"
        }
       ],
       "instanceArgs": {
        "handlers": {
         "_promises": {
          "importsLoaded": [
           "function (dependency) {\n    console.log(dependency);\n    console.log(_webIOScope);\n    _webIOScope.setObservableValue(\"inbox\", dependency.x);\n}\n"
          ]
         }
        },
        "id": "scope-391c2f6d-07c7-404d-928f-c9681106d8c5",
        "imports": {
         "data": [
          {
           "name": null,
           "type": "js",
           "url": "//people.csail.mit.edu/rdeits/webio_tests/trivial_import.js"
          }
         ],
         "type": "async_block"
        },
        "observables": {
         "inbox": {
          "id": "ob_12",
          "sync": true,
          "value": null
         }
        },
        "systemjs_options": null
       },
       "nodeType": "Scope",
       "props": {},
       "type": "node"
      },
      "text/html": [
       "<div\n",
       "    class=\"webio-mountpoint\"\n",
       "    data-webio-mountpoint=\"16945883928680829439\"\n",
       ">\n",
       "    <script>\n",
       "    if (window.require && require.defined && require.defined(\"nbextensions/webio/main\")) {\n",
       "        console.log(\"Jupyter WebIO extension detected, not mounting.\");\n",
       "    } else if (window.WebIO) {\n",
       "        WebIO.mount(\n",
       "            document.querySelector('[data-webio-mountpoint=\"16945883928680829439\"]'),\n",
       "            {\"props\":{},\"nodeType\":\"Scope\",\"type\":\"node\",\"instanceArgs\":{\"imports\":{\"data\":[{\"name\":null,\"type\":\"js\",\"url\":\"\\/\\/people.csail.mit.edu\\/rdeits\\/webio_tests\\/trivial_import.js\"}],\"type\":\"async_block\"},\"id\":\"scope-391c2f6d-07c7-404d-928f-c9681106d8c5\",\"handlers\":{\"_promises\":{\"importsLoaded\":[\"function (dependency) {\\n    console.log(dependency);\\n    console.log(_webIOScope);\\n    _webIOScope.setObservableValue(\\\"inbox\\\", dependency.x);\\n}\\n\"]}},\"systemjs_options\":null,\"observables\":{\"inbox\":{\"sync\":true,\"id\":\"ob_12\",\"value\":null}}},\"children\":[{\"props\":{\"id\":\"container\"},\"nodeType\":\"DOM\",\"type\":\"node\",\"instanceArgs\":{\"namespace\":\"html\",\"tag\":\"div\"},\"children\":[]}]},\n",
       "        );\n",
       "    } else {\n",
       "        document\n",
       "            .querySelector('[data-webio-mountpoint=\"16945883928680829439\"]')\n",
       "            .innerHTML = '<strong>WebIO not detected.</strong>';\n",
       "    }\n",
       "    </script>\n",
       "</div>\n"
      ],
      "text/plain": [
       "Scope(\"scope-391c2f6d-07c7-404d-928f-c9681106d8c5\", Node{WebIO.DOM}(WebIO.DOM(:html, :div), Any[], Dict{Symbol,Any}(:id=>\"container\"), 0), Dict{String,Tuple{Observables.AbstractObservable,Union{Nothing, Bool}}}(\"inbox\"=>(Observable{Any}(\"ob_12\", nothing, Any[##55#56()]), nothing)), Set(String[]), nothing, [\"//people.csail.mit.edu/rdeits/webio_tests/trivial_import.js\"], Dict{Any,Any}(\"_promises\"=>Dict{Any,Any}(\"importsLoaded\"=>Any[JSString(\"function (dependency) {\\n    console.log(dependency);\\n    console.log(_webIOScope);\\n    _webIOScope.setObservableValue(\\\"inbox\\\", dependency.x);\\n}\\n\")])), WebIO.ConnectionPool(Channel{Any}(sz_max:9223372036854775807,sz_curr:0), Set(AbstractConnection[]), Channel{AbstractConnection}(sz_max:32,sz_curr:0)))"
      ]
     },
     "metadata": {},
     "output_type": "display_data"
    },
    {
     "data": {
      "text/plain": [
       "Task (runnable) @0x00007f91a254bc70"
      ]
     },
     "execution_count": 19,
     "metadata": {},
     "output_type": "execute_result"
    },
    {
     "name": "stderr",
     "output_type": "stream",
     "text": [
      "┌ Info: Inbox got \"ok\".\n",
      "└ @ Main In[19]:5\n",
      "┌ Info: Passed!\n",
      "└ @ Main In[19]:22\n"
     ]
    }
   ],
   "source": [
    "w = Scope(imports=[\"//people.csail.mit.edu/rdeits/webio_tests/trivial_import.js\"])\n",
    "\n",
    "inbox = Observable{Any}(w, \"inbox\", nothing)\n",
    "on(inbox) do x\n",
    "    @info \"Inbox got \\\"$x\\\".\"\n",
    "end\n",
    "\n",
    "onimport(w, js\"\"\"\n",
    "function (dependency) {\n",
    "    console.log(dependency);\n",
    "    console.log(_webIOScope);\n",
    "    _webIOScope.setObservableValue(\"inbox\", dependency.x);\n",
    "}\n",
    "\"\"\")\n",
    "\n",
    "n = w(dom\"div#container\"())\n",
    "display(n)\n",
    "\n",
    "# There's no real way (that I can see) to do this test synchronously since we\n",
    "# need to be idle for IJulia to handle updating the observable but we also\n",
    "# can't throw from within an async block and have Jupyter pick it up.\n",
    "@async begin\n",
    "    sleep(3)\n",
    "    if inbox[] == \"ok\"\n",
    "        @info \"Passed!\"\n",
    "    else\n",
    "        @warn \"Failed!\"\n",
    "    end\n",
    "end"
   ]
  },
  {
   "cell_type": "markdown",
   "metadata": {},
   "source": [
    "# Sending values from JavaScript to Julia\n",
    "\n",
    "Below is a scope which communicates with Julia. The following scope contains a button which sends a random number, generated in JavaScript, to Julia. We will print this number on the Julia side."
   ]
  },
  {
   "cell_type": "code",
   "execution_count": 22,
   "metadata": {},
   "outputs": [
    {
     "data": {
      "text/plain": [
       "random_print_button (generic function with 1 method)"
      ]
     },
     "execution_count": 22,
     "metadata": {},
     "output_type": "execute_result"
    }
   ],
   "source": [
    "function random_print_button()\n",
    "    w = Scope()\n",
    "\n",
    "    obs = Observable(w, \"rand-value\", 0.0)\n",
    "\n",
    "    on(obs) do x\n",
    "        println(\"JS sent $x\")\n",
    "    end\n",
    "\n",
    "    w(\n",
    "      dom\"button\"(\n",
    "        \"generate random\",\n",
    "        events=Dict(\"click\"=>js\"\"\"function() { _webIOScope.setObservableValue(\"rand-value\", Math.random()); }\"\"\"),\n",
    "      ),\n",
    "    )\n",
    "end"
   ]
  },
  {
   "cell_type": "code",
   "execution_count": 23,
   "metadata": {},
   "outputs": [
    {
     "data": {
      "application/vnd.webio.node+json": {
       "children": [
        {
         "children": [
          "generate random"
         ],
         "instanceArgs": {
          "namespace": "html",
          "tag": "button"
         },
         "nodeType": "DOM",
         "props": {
          "events": {
           "click": "function() { _webIOScope.setObservableValue(\"rand-value\", Math.random()); }"
          }
         },
         "type": "node"
        }
       ],
       "instanceArgs": {
        "handlers": {},
        "id": "scope-06b9de5b-4f7c-4d05-a82d-9228e697f121",
        "imports": {
         "data": [],
         "type": "async_block"
        },
        "observables": {
         "rand-value": {
          "id": "ob_13",
          "sync": true,
          "value": 0
         }
        },
        "systemjs_options": null
       },
       "nodeType": "Scope",
       "props": {},
       "type": "node"
      },
      "text/html": [
       "<div\n",
       "    class=\"webio-mountpoint\"\n",
       "    data-webio-mountpoint=\"15624871542751568691\"\n",
       ">\n",
       "    <script>\n",
       "    if (window.require && require.defined && require.defined(\"nbextensions/webio/main\")) {\n",
       "        console.log(\"Jupyter WebIO extension detected, not mounting.\");\n",
       "    } else if (window.WebIO) {\n",
       "        WebIO.mount(\n",
       "            document.querySelector('[data-webio-mountpoint=\"15624871542751568691\"]'),\n",
       "            {\"props\":{},\"nodeType\":\"Scope\",\"type\":\"node\",\"instanceArgs\":{\"imports\":{\"data\":[],\"type\":\"async_block\"},\"id\":\"scope-06b9de5b-4f7c-4d05-a82d-9228e697f121\",\"handlers\":{},\"systemjs_options\":null,\"observables\":{\"rand-value\":{\"sync\":true,\"id\":\"ob_13\",\"value\":0.0}}},\"children\":[{\"props\":{\"events\":{\"click\":\"function() { _webIOScope.setObservableValue(\\\"rand-value\\\", Math.random()); }\"}},\"nodeType\":\"DOM\",\"type\":\"node\",\"instanceArgs\":{\"namespace\":\"html\",\"tag\":\"button\"},\"children\":[\"generate random\"]}]},\n",
       "        );\n",
       "    } else {\n",
       "        document\n",
       "            .querySelector('[data-webio-mountpoint=\"15624871542751568691\"]')\n",
       "            .innerHTML = '<strong>WebIO not detected.</strong>';\n",
       "    }\n",
       "    </script>\n",
       "</div>\n"
      ],
      "text/plain": [
       "Scope(\"scope-06b9de5b-4f7c-4d05-a82d-9228e697f121\", Node{WebIO.DOM}(WebIO.DOM(:html, :button), Any[\"generate random\"], Dict{Symbol,Any}(:events=>Dict(\"click\"=>JSString(\"function() { _webIOScope.setObservableValue(\\\"rand-value\\\", Math.random()); }\"))), 1), Dict{String,Tuple{Observables.AbstractObservable,Union{Nothing, Bool}}}(\"rand-value\"=>(Observable{Float64}(\"ob_13\", 0.0, Any[##61#63()]), nothing)), Set(String[]), nothing, Any[], Dict{Any,Any}(), WebIO.ConnectionPool(Channel{Any}(sz_max:9223372036854775807,sz_curr:0), Set(AbstractConnection[]), Channel{AbstractConnection}(sz_max:32,sz_curr:0)))"
      ]
     },
     "execution_count": 23,
     "metadata": {},
     "output_type": "execute_result"
    },
    {
     "name": "stdout",
     "output_type": "stream",
     "text": [
      "JS sent 0.13925483172939013\n",
      "JS sent 0.024235441221493348\n",
      "JS sent 0.4880460014322092\n",
      "JS sent 0.6848227695164495\n"
     ]
    }
   ],
   "source": [
    "random_print_button()"
   ]
  },
  {
   "cell_type": "markdown",
   "metadata": {},
   "source": [
    "## iframe encapsulation\n",
    "\n",
    "We can also encapsulate a scope inside an `<iframe>`, which isolates it from the containing page's styling and layout: "
   ]
  },
  {
   "cell_type": "code",
   "execution_count": 24,
   "metadata": {},
   "outputs": [
    {
     "data": {
      "application/vnd.webio.node+json": {
       "children": [],
       "instanceArgs": {
        "innerHTML": "<div\n    class=\"webio-mountpoint\"\n    data-webio-mountpoint=\"12573687166207745325\"\n>\n    <script>\n    if (window.require && require.defined && require.defined(\"nbextensions/webio/main\")) {\n        console.log(\"Jupyter WebIO extension detected, not mounting.\");\n    } else if (window.WebIO) {\n        WebIO.mount(\n            document.querySelector('[data-webio-mountpoint=\"12573687166207745325\"]'),\n            {\"props\":{},\"nodeType\":\"Scope\",\"type\":\"node\",\"instanceArgs\":{\"imports\":{\"data\":[],\"type\":\"async_block\"},\"id\":\"scope-215e5f1c-a7fb-4dcc-9737-435f6e218b33\",\"handlers\":{},\"systemjs_options\":null,\"observables\":{\"rand-value\":{\"sync\":true,\"id\":\"ob_14\",\"value\":0.0}}},\"children\":[{\"props\":{\"events\":{\"click\":\"function() { _webIOScope.setObservableValue(\\\"rand-value\\\", Math.random()); }\"}},\"nodeType\":\"DOM\",\"type\":\"node\",\"instanceArgs\":{\"namespace\":\"html\",\"tag\":\"button\"},\"children\":[\"generate random\"]}]},\n        );\n    } else {\n        document\n            .querySelector('[data-webio-mountpoint=\"12573687166207745325\"]')\n            .innerHTML = '<strong>WebIO not detected.</strong>';\n    }\n    </script>\n</div>\n"
       },
       "nodeType": "IFrame",
       "props": {},
       "type": "node"
      },
      "text/html": [
       "<div\n",
       "    class=\"webio-mountpoint\"\n",
       "    data-webio-mountpoint=\"16036364865525749829\"\n",
       ">\n",
       "    <script>\n",
       "    if (window.require && require.defined && require.defined(\"nbextensions/webio/main\")) {\n",
       "        console.log(\"Jupyter WebIO extension detected, not mounting.\");\n",
       "    } else if (window.WebIO) {\n",
       "        WebIO.mount(\n",
       "            document.querySelector('[data-webio-mountpoint=\"16036364865525749829\"]'),\n",
       "            {\"props\":{},\"nodeType\":\"IFrame\",\"type\":\"node\",\"instanceArgs\":{\"innerHTML\":\"<div\\n    class=\\\"webio-mountpoint\\\"\\n    data-webio-mountpoint=\\\"12573687166207745325\\\"\\n>\\n    <script>\\n    if (window.require && require.defined && require.defined(\\\"nbextensions\\/webio\\/main\\\")) {\\n        console.log(\\\"Jupyter WebIO extension detected, not mounting.\\\");\\n    } else if (window.WebIO) {\\n        WebIO.mount(\\n            document.querySelector('[data-webio-mountpoint=\\\"12573687166207745325\\\"]'),\\n            {\\\"props\\\":{},\\\"nodeType\\\":\\\"Scope\\\",\\\"type\\\":\\\"node\\\",\\\"instanceArgs\\\":{\\\"imports\\\":{\\\"data\\\":[],\\\"type\\\":\\\"async_block\\\"},\\\"id\\\":\\\"scope-215e5f1c-a7fb-4dcc-9737-435f6e218b33\\\",\\\"handlers\\\":{},\\\"systemjs_options\\\":null,\\\"observables\\\":{\\\"rand-value\\\":{\\\"sync\\\":true,\\\"id\\\":\\\"ob_14\\\",\\\"value\\\":0.0}}},\\\"children\\\":[{\\\"props\\\":{\\\"events\\\":{\\\"click\\\":\\\"function() { _webIOScope.setObservableValue(\\\\\\\"rand-value\\\\\\\", Math.random()); }\\\"}},\\\"nodeType\\\":\\\"DOM\\\",\\\"type\\\":\\\"node\\\",\\\"instanceArgs\\\":{\\\"namespace\\\":\\\"html\\\",\\\"tag\\\":\\\"button\\\"},\\\"children\\\":[\\\"generate random\\\"]}]},\\n        );\\n    } else {\\n        document\\n            .querySelector('[data-webio-mountpoint=\\\"12573687166207745325\\\"]')\\n            .innerHTML = '<strong>WebIO not detected.<\\/strong>';\\n    }\\n    <\\/script>\\n<\\/div>\\n\"},\"children\":[]},\n",
       "        );\n",
       "    } else {\n",
       "        document\n",
       "            .querySelector('[data-webio-mountpoint=\"16036364865525749829\"]')\n",
       "            .innerHTML = '<strong>WebIO not detected.</strong>';\n",
       "    }\n",
       "    </script>\n",
       "</div>\n"
      ],
      "text/plain": [
       "(WebIO.IFrame(\"<div\\n    class=\\\"webio-mountpoint\\\"\\n    data-webio-mountpoint=\\\"12573687166207745325\\\"\\n>\\n    <script>\\n    if (window.require && require.defined && require.defined(\\\"nbextensions/webio/main\\\")) {\\n        console.log(\\\"Jupyter WebIO extension detected, not mounting.\\\");\\n    } else if (window.WebIO) {\\n        WebIO.mount(\\n            document.querySelector('[data-webio-mountpoint=\\\"12573687166207745325\\\"]'),\\n            {\\\"props\\\":{},\\\"nodeType\\\":\\\"Scope\\\",\\\"type\\\":\\\"node\\\",\\\"instanceArgs\\\":{\\\"imports\\\":{\\\"data\\\":[],\\\"type\\\":\\\"async_block\\\"},\\\"id\\\":\\\"scope-215e5f1c-a7fb-4dcc-9737-435f6e218b33\\\",\\\"handlers\\\":{},\\\"systemjs_options\\\":null,\\\"observables\\\":{\\\"rand-value\\\":{\\\"sync\\\":true,\\\"id\\\":\\\"ob_14\\\",\\\"value\\\":0.0}}},\\\"children\\\":[{\\\"props\\\":{\\\"events\\\":{\\\"click\\\":\\\"function() { _webIOScope.setObservableValue(\\\\\\\"rand-value\\\\\\\", Math.random()); }\\\"}},\\\"nodeType\\\":\\\"DOM\\\",\\\"type\\\":\\\"node\\\",\\\"instanceArgs\\\":{\\\"namespace\\\":\\\"html\\\",\\\"tag\\\":\\\"button\\\"},\\\"children\\\":[\\\"generate random\\\"]}]},\\n        );\\n    } else {\\n        document\\n            .querySelector('[data-webio-mountpoint=\\\"12573687166207745325\\\"]')\\n            .innerHTML = '<strong>WebIO not detected.</strong>';\\n    }\\n    </script>\\n</div>\\n\"):)"
      ]
     },
     "execution_count": 24,
     "metadata": {},
     "output_type": "execute_result"
    },
    {
     "name": "stdout",
     "output_type": "stream",
     "text": [
      "JS sent 0.5822867623495988\n",
      "JS sent 0.2613272185876856\n",
      "JS sent 0.3942177563282824\n"
     ]
    }
   ],
   "source": [
    "iframe(random_print_button())"
   ]
  },
  {
   "cell_type": "markdown",
   "metadata": {},
   "source": [
    "# Sending values from Julia to JavaScript\n",
    "\n",
    "Here's a clock where the time is formatted and updated every second from Julia. We use the onjs handler and mutate the #clock DOM element to acheive this."
   ]
  },
  {
   "cell_type": "code",
   "execution_count": 25,
   "metadata": {},
   "outputs": [
    {
     "data": {
      "application/vnd.webio.node+json": {
       "children": [
        {
         "children": [
          "10:46:10"
         ],
         "instanceArgs": {
          "namespace": "html",
          "tag": "div"
         },
         "nodeType": "DOM",
         "props": {
          "className": "clock"
         },
         "type": "node"
        }
       ],
       "instanceArgs": {
        "handlers": {
         "clock-value": [
          "function (value) {\n    const clock = this.dom.querySelector(\".clock\");\n    clock.textContent = value;\n}\n"
         ]
        },
        "id": "scope-50c58b2e-82ab-4705-b578-7b0cf8086797",
        "imports": {
         "data": [],
         "type": "async_block"
        },
        "observables": {
         "clock-value": {
          "id": "ob_15",
          "sync": false,
          "value": ""
         }
        },
        "systemjs_options": null
       },
       "nodeType": "Scope",
       "props": {},
       "type": "node"
      },
      "text/html": [
       "<div\n",
       "    class=\"webio-mountpoint\"\n",
       "    data-webio-mountpoint=\"3453888610613301840\"\n",
       ">\n",
       "    <script>\n",
       "    if (window.require && require.defined && require.defined(\"nbextensions/webio/main\")) {\n",
       "        console.log(\"Jupyter WebIO extension detected, not mounting.\");\n",
       "    } else if (window.WebIO) {\n",
       "        WebIO.mount(\n",
       "            document.querySelector('[data-webio-mountpoint=\"3453888610613301840\"]'),\n",
       "            {\"props\":{},\"nodeType\":\"Scope\",\"type\":\"node\",\"instanceArgs\":{\"imports\":{\"data\":[],\"type\":\"async_block\"},\"id\":\"scope-50c58b2e-82ab-4705-b578-7b0cf8086797\",\"handlers\":{\"clock-value\":[\"function (value) {\\n    const clock = this.dom.querySelector(\\\".clock\\\");\\n    clock.textContent = value;\\n}\\n\"]},\"systemjs_options\":null,\"observables\":{\"clock-value\":{\"sync\":false,\"id\":\"ob_15\",\"value\":\"\"}}},\"children\":[{\"props\":{\"className\":\"clock\"},\"nodeType\":\"DOM\",\"type\":\"node\",\"instanceArgs\":{\"namespace\":\"html\",\"tag\":\"div\"},\"children\":[\"10:46:10\"]}]},\n",
       "        );\n",
       "    } else {\n",
       "        document\n",
       "            .querySelector('[data-webio-mountpoint=\"3453888610613301840\"]')\n",
       "            .innerHTML = '<strong>WebIO not detected.</strong>';\n",
       "    }\n",
       "    </script>\n",
       "</div>\n"
      ],
      "text/plain": [
       "Scope(\"scope-50c58b2e-82ab-4705-b578-7b0cf8086797\", Node{WebIO.DOM}(WebIO.DOM(:html, :div), Any[\"10:46:10\"], Dict{Symbol,Any}(:className=>\"clock\"), 1), Dict{String,Tuple{Observables.AbstractObservable,Union{Nothing, Bool}}}(\"clock-value\"=>(Observable{String}(\"ob_15\", \"\", Any[SyncCallback(Scope(#= circular reference @-6 =#), SyncCallback(Scope(#= circular reference @-7 =#), ##36#38{Scope,String}(Scope(#= circular reference @-8 =#), \"clock-value\")))]), nothing)), Set(String[]), nothing, Any[], Dict{Any,Any}(\"clock-value\"=>Any[JSString(\"function (value) {\\n    const clock = this.dom.querySelector(\\\".clock\\\");\\n    clock.textContent = value;\\n}\\n\")]), WebIO.ConnectionPool(Channel{Any}(sz_max:9223372036854775807,sz_curr:0), Set(AbstractConnection[]), Channel{AbstractConnection}(sz_max:32,sz_curr:0)))"
      ]
     },
     "execution_count": 25,
     "metadata": {},
     "output_type": "execute_result"
    }
   ],
   "source": [
    "using Dates\n",
    "w = Scope()\n",
    "obs = Observable(w, \"clock-value\", \"\")\n",
    "\n",
    "timestr() = Dates.format(now(), \"HH:MM:SS\")\n",
    "\n",
    "# update timestamp every second\n",
    "@async while true\n",
    "    sleep(1)\n",
    "    obs[] = timestr()\n",
    "end\n",
    "\n",
    "onjs(obs, js\"\"\"\n",
    "function (value) {\n",
    "    const clock = this.dom.querySelector(\".clock\");\n",
    "    clock.textContent = value;\n",
    "}\n",
    "\"\"\")\n",
    "\n",
    "w(\n",
    "  dom\"div.clock\"(\n",
    "    timestr(),\n",
    "  ),\n",
    ")"
   ]
  },
  {
   "cell_type": "markdown",
   "metadata": {},
   "source": [
    "For an even easier way to send values from Julia to JavaScript, we can simply rely on the fact that WebIO knows how to render `Observable`s directly to HTML. In this case WebIO will automatically construct a `Scope` and insert the relevant JavaScript to update the rendered content whenever the `Observable` changes value:"
   ]
  },
  {
   "cell_type": "code",
   "execution_count": 26,
   "metadata": {},
   "outputs": [
    {
     "data": {
      "application/vnd.webio.node+json": {
       "children": [
        {
         "children": [],
         "instanceArgs": {
          "namespace": "html",
          "tag": "div"
         },
         "nodeType": "DOM",
         "props": {
          "className": "webio-observable",
          "setInnerHtml": "<pre>\"10:46:36\"</pre>"
         },
         "type": "node"
        }
       ],
       "instanceArgs": {
        "handlers": {
         "obs-output": [
          "function (value, scope) {\n    scope.setInnerHTML(value);\n}\n"
         ]
        },
        "id": "scope-9e44a4a8-f2d5-4b7f-a0aa-06c55dffe8cd",
        "imports": {
         "data": [],
         "type": "async_block"
        },
        "observables": {
         "obs-output": {
          "id": "ob_18",
          "sync": false,
          "value": "<pre>\"10:46:36\"</pre>"
         }
        },
        "systemjs_options": null
       },
       "nodeType": "Scope",
       "props": {},
       "type": "node"
      },
      "text/html": [
       "<div\n",
       "    class=\"webio-mountpoint\"\n",
       "    data-webio-mountpoint=\"4719388589626082462\"\n",
       ">\n",
       "    <script>\n",
       "    if (window.require && require.defined && require.defined(\"nbextensions/webio/main\")) {\n",
       "        console.log(\"Jupyter WebIO extension detected, not mounting.\");\n",
       "    } else if (window.WebIO) {\n",
       "        WebIO.mount(\n",
       "            document.querySelector('[data-webio-mountpoint=\"4719388589626082462\"]'),\n",
       "            {\"props\":{},\"nodeType\":\"Scope\",\"type\":\"node\",\"instanceArgs\":{\"imports\":{\"data\":[],\"type\":\"async_block\"},\"id\":\"scope-ff31f3f2-bffd-447b-b198-2c900b26b294\",\"handlers\":{\"obs-output\":[\"function (value, scope) {\\n    scope.setInnerHTML(value);\\n}\\n\"]},\"systemjs_options\":null,\"observables\":{\"obs-output\":{\"sync\":false,\"id\":\"ob_17\",\"value\":\"<pre>\\\"10:46:36\\\"<\\/pre>\"}}},\"children\":[{\"props\":{\"className\":\"webio-observable\",\"setInnerHtml\":\"<pre>\\\"10:46:36\\\"<\\/pre>\"},\"nodeType\":\"DOM\",\"type\":\"node\",\"instanceArgs\":{\"namespace\":\"html\",\"tag\":\"div\"},\"children\":[]}]},\n",
       "        );\n",
       "    } else {\n",
       "        document\n",
       "            .querySelector('[data-webio-mountpoint=\"4719388589626082462\"]')\n",
       "            .innerHTML = '<strong>WebIO not detected.</strong>';\n",
       "    }\n",
       "    </script>\n",
       "</div>\n"
      ],
      "text/plain": [
       "Observable{String}(\"ob_16\", \"10:46:36\", Any[])"
      ]
     },
     "execution_count": 26,
     "metadata": {},
     "output_type": "execute_result"
    }
   ],
   "source": [
    "clock_obs = Observable(timestr())\n",
    "@async while true\n",
    "    sleep(1)\n",
    "    clock_obs[] = timestr()\n",
    "end\n",
    "clock_obs"
   ]
  }
 ],
 "metadata": {
  "kernelspec": {
   "display_name": "Julia 0.7.0",
   "language": "julia",
   "name": "julia-0.7"
  },
  "language_info": {
   "file_extension": ".jl",
   "mimetype": "application/julia",
   "name": "julia",
   "version": "0.7.0"
  }
 },
 "nbformat": 4,
 "nbformat_minor": 2
}
